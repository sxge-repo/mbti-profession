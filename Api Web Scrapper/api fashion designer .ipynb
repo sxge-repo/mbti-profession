{
 "cells": [
  {
   "cell_type": "code",
   "execution_count": 3,
   "id": "1436a457",
   "metadata": {},
   "outputs": [],
   "source": [
    "import requests\n",
    "import time\n",
    "\n",
    "# Set up session and headers\n",
    "session = requests.Session()\n",
    "headers = {\n",
    "    \"User-Agent\": \"Mozilla/5.0 (Macintosh; Intel Mac OS X 10_15_7) AppleWebKit/537.36 (KHTML, like Gecko) Chrome/113.0.0.0 Safari/537.36\",\n",
    "    \"Accept-Language\": \"en-US,en;q=0.9,vi;q=0.8\",\n",
    "    \"Accept-Encoding\": \"gzip, deflate, br\",\n",
    "    \"Connection\": \"keep-alive\"\n",
    "}\n",
    "\n",
    "# Page 1 API for Kpop profession\n",
    "page_1_api = \"https://api.personality-database.com/api/v1/profiles?offset=0&limit=500&cid=16&pid=1&sort=alphabet&sub_cat_id=3553&cat_id=16&property_id=1\"\n",
    "\n",
    "# Make request to the page 1 API\n",
    "response = session.get(page_1_api, headers=headers)\n",
    "data = response.json()\n",
    "\n",
    "# Extract names and MBTI profiles from the response\n",
    "profiles = data.get(\"profiles\", [])\n",
    "scraped_data = []\n",
    "\n",
    "for profile in profiles:\n",
    "    name = profile.get(\"mbti_profile\", \"\")\n",
    "    profession = profile.get(\"subcategory\", \"\")\n",
    "    mbti = profile.get(\"personality_type\", \"\")\n",
    "    scraped_data.append({\"name\": name,\"subcategory\": profession, \"mbti\": mbti})\n",
    "\n",
    "import pandas as pd\n",
    "\n",
    "# Create a pandas DataFrame from the scraped_data\n",
    "df = pd.DataFrame(scraped_data)\n",
    "\n",
    "# Specify the column order\n",
    "column_order = [\"name\", \"subcategory\", \"mbti\"]\n",
    "\n",
    "# Reorder the columns in the DataFrame\n",
    "df = df[column_order]\n",
    "\n",
    "# Save the DataFrame to a CSV file\n",
    "df.to_csv(\"designer.csv\", index=False)"
   ]
  },
  {
   "cell_type": "code",
   "execution_count": null,
   "id": "dcf54cd8",
   "metadata": {},
   "outputs": [],
   "source": []
  }
 ],
 "metadata": {
  "kernelspec": {
   "display_name": "Python 3 (ipykernel)",
   "language": "python",
   "name": "python3"
  },
  "language_info": {
   "codemirror_mode": {
    "name": "ipython",
    "version": 3
   },
   "file_extension": ".py",
   "mimetype": "text/x-python",
   "name": "python",
   "nbconvert_exporter": "python",
   "pygments_lexer": "ipython3",
   "version": "3.10.9"
  }
 },
 "nbformat": 4,
 "nbformat_minor": 5
}
